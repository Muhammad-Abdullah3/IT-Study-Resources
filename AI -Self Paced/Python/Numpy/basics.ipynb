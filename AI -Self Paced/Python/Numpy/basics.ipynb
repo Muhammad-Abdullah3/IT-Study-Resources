{
 "cells": [
  {
   "cell_type": "code",
   "execution_count": 2,
   "id": "d82d4ad9-07f0-46e3-8d65-31f8a7d49c16",
   "metadata": {},
   "outputs": [],
   "source": [
    "import numpy as np\n",
    "import os\n",
    "import  sys"
   ]
  },
  {
   "cell_type": "code",
   "execution_count": 3,
   "id": "987b3f70-f014-4373-9965-fedb1b110f09",
   "metadata": {},
   "outputs": [
    {
     "name": "stdout",
     "output_type": "stream",
     "text": [
      "[1 2 3]\n"
     ]
    }
   ],
   "source": [
    "# initializing an array\n",
    "a = np.array([1,2,3])\n",
    "print(a)"
   ]
  },
  {
   "cell_type": "code",
   "execution_count": null,
   "id": "97f967b6",
   "metadata": {},
   "outputs": [
    {
     "name": "stdout",
     "output_type": "stream",
     "text": [
      "[[9.  8.3 1.5]\n",
      " [6.1 5.  2.8]]\n"
     ]
    }
   ],
   "source": [
    "b = np.array([[9.0,8.3,1.5],[6.1,5.0,2.8]])\n",
    "print(b)"
   ]
  },
  {
   "cell_type": "code",
   "execution_count": 5,
   "id": "dc8e59c6",
   "metadata": {},
   "outputs": [
    {
     "name": "stdout",
     "output_type": "stream",
     "text": [
      "1\n",
      "2\n"
     ]
    }
   ],
   "source": [
    "#get dimension\n",
    "print(a.ndim)\n",
    "print(b.ndim)"
   ]
  },
  {
   "cell_type": "code",
   "execution_count": 6,
   "id": "e280d84c",
   "metadata": {},
   "outputs": [
    {
     "name": "stdout",
     "output_type": "stream",
     "text": [
      "(3,)\n",
      "(2, 3)\n"
     ]
    }
   ],
   "source": [
    "# Get shape\n",
    "print(a.shape)\n",
    "print(b.shape)"
   ]
  },
  {
   "cell_type": "code",
   "execution_count": 7,
   "id": "44825b85",
   "metadata": {},
   "outputs": [
    {
     "name": "stdout",
     "output_type": "stream",
     "text": [
      "int32\n",
      "float64\n"
     ]
    }
   ],
   "source": [
    "# Data type\n",
    "print(a.dtype)\n",
    "print(b.dtype)"
   ]
  },
  {
   "cell_type": "code",
   "execution_count": 8,
   "id": "61342d8c",
   "metadata": {},
   "outputs": [
    {
     "name": "stdout",
     "output_type": "stream",
     "text": [
      "4\n",
      "8\n"
     ]
    }
   ],
   "source": [
    "# Get element item size\n",
    "print(a.itemsize)\n",
    "print(b.itemsize)\n"
   ]
  },
  {
   "cell_type": "markdown",
   "id": "2a5b538f",
   "metadata": {},
   "source": [
    "# Accessing/Changing elements,rows,columns"
   ]
  },
  {
   "cell_type": "code",
   "execution_count": 10,
   "id": "e446599f",
   "metadata": {},
   "outputs": [
    {
     "name": "stdout",
     "output_type": "stream",
     "text": [
      "[[ 1  2  3  4  5  6  7]\n",
      " [ 8  9 10 11 12 13 14]\n",
      " [90 91 92 93 94 95 96]]\n"
     ]
    }
   ],
   "source": [
    "c = np.array([[1,2,3,4,5,6,7],[8,9,10,11,12,13,14],[90,91,92,93,94,95,96]])\n",
    "print(c)"
   ]
  },
  {
   "cell_type": "code",
   "execution_count": 12,
   "id": "9aa045db",
   "metadata": {},
   "outputs": [
    {
     "data": {
      "text/plain": [
       "95"
      ]
     },
     "execution_count": 12,
     "metadata": {},
     "output_type": "execute_result"
    }
   ],
   "source": [
    "#get a specific element [row,col]\n",
    "c[2, 5]"
   ]
  },
  {
   "cell_type": "code",
   "execution_count": 13,
   "id": "98c2aa7a",
   "metadata": {},
   "outputs": [
    {
     "data": {
      "text/plain": [
       "array([ 8,  9, 10, 11, 12, 13, 14])"
      ]
     },
     "execution_count": 13,
     "metadata": {},
     "output_type": "execute_result"
    }
   ],
   "source": [
    "# get a specific row\n",
    "c[1, :]"
   ]
  },
  {
   "cell_type": "code",
   "execution_count": 14,
   "id": "c897f72c",
   "metadata": {},
   "outputs": [
    {
     "data": {
      "text/plain": [
       "array([ 5, 12, 94])"
      ]
     },
     "execution_count": 14,
     "metadata": {},
     "output_type": "execute_result"
    }
   ],
   "source": [
    "# get a specific column\n",
    "c[:,4]"
   ]
  },
  {
   "cell_type": "code",
   "execution_count": 15,
   "id": "80052373",
   "metadata": {},
   "outputs": [
    {
     "data": {
      "text/plain": [
       "array([2, 5])"
      ]
     },
     "execution_count": 15,
     "metadata": {},
     "output_type": "execute_result"
    }
   ],
   "source": [
    "# slicing with step size\n",
    "c[0,1:6:3]"
   ]
  },
  {
   "cell_type": "markdown",
   "id": "e6370fd7",
   "metadata": {},
   "source": [
    "## Initializing Arrays"
   ]
  },
  {
   "cell_type": "code",
   "execution_count": 24,
   "id": "66f46212",
   "metadata": {},
   "outputs": [
    {
     "name": "stdout",
     "output_type": "stream",
     "text": [
      "[[0. 0. 0.]\n",
      " [0. 0. 0.]]\n"
     ]
    }
   ],
   "source": [
    "z = np.zeros((2,3))\n",
    "print(z)\n"
   ]
  },
  {
   "cell_type": "code",
   "execution_count": null,
   "id": "668d1395",
   "metadata": {},
   "outputs": [],
   "source": []
  }
 ],
 "metadata": {
  "kernelspec": {
   "display_name": "Python 3",
   "language": "python",
   "name": "python3"
  },
  "language_info": {
   "codemirror_mode": {
    "name": "ipython",
    "version": 3
   },
   "file_extension": ".py",
   "mimetype": "text/x-python",
   "name": "python",
   "nbconvert_exporter": "python",
   "pygments_lexer": "ipython3",
   "version": "3.12.3"
  }
 },
 "nbformat": 4,
 "nbformat_minor": 5
}
